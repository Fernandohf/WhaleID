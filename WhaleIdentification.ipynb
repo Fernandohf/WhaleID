{
 "cells": [
  {
   "cell_type": "markdown",
   "metadata": {},
   "source": [
    "# Problem - Whale Identification\n",
    "\n",
    "The purpose of this model is create a whale identification model based on previous data. First step is prepare the data to be digested by the model."
   ]
  },
  {
   "cell_type": "markdown",
   "metadata": {},
   "source": [
    "# Load Data\n",
    "\n",
    "The data is loaded using Kaggle's API."
   ]
  },
  {
   "cell_type": "raw",
   "metadata": {},
   "source": [
    "!pip install kaggle"
   ]
  },
  {
   "cell_type": "code",
   "execution_count": 5,
   "metadata": {},
   "outputs": [
    {
     "name": "stdout",
     "output_type": "stream",
     "text": [
      "401 - Unauthorized\n"
     ]
    }
   ],
   "source": [
    "!kaggle competitions list"
   ]
  },
  {
   "cell_type": "code",
   "execution_count": 6,
   "metadata": {},
   "outputs": [
    {
     "name": "stdout",
     "output_type": "stream",
     "text": [
      "401 - Unauthorized\n"
     ]
    }
   ],
   "source": [
    "!kaggle competitions files -c humpback-whale-identification"
   ]
  },
  {
   "cell_type": "code",
   "execution_count": 7,
   "metadata": {},
   "outputs": [
    {
     "name": "stdout",
     "output_type": "stream",
     "text": [
      "401 - Unauthorized\n"
     ]
    }
   ],
   "source": [
    "!kaggle competitions download -c humpback-whale-identification"
   ]
  },
  {
   "cell_type": "markdown",
   "metadata": {},
   "source": [
    "# Organizing the Dataset"
   ]
  },
  {
   "cell_type": "code",
   "execution_count": 1,
   "metadata": {},
   "outputs": [],
   "source": [
    "import os\n",
    "import torch\n",
    "import numpy as np\n",
    "import pandas as pd\n",
    "import matplotlib.pyplot as plt\n",
    "import torchvision.transforms as T\n",
    "from torchvision import models\n",
    "from PIL import Image\n",
    "from itertools import combinations, chain\n",
    "from torch.utils.data import Dataset, DataLoader, random_split"
   ]
  },
  {
   "cell_type": "code",
   "execution_count": 2,
   "metadata": {},
   "outputs": [],
   "source": [
    "class WhaleDataset(Dataset):\n",
    "    \"\"\"\n",
    "    Creates the dataset to train the model.\n",
    "    \"\"\"\n",
    "    def __init__(self, csv_file, root_dir, transforms, split=.8, neg_ratio=2):\n",
    "        \"\"\"     \n",
    "        Args: \n",
    "            root_dir (string): Path to diretory with images.\n",
    "            csv_file (string): Path to csv with all the images.\n",
    "            kind (string): train ratio of data.\n",
    "            transforms (list): Optional list with train/test transforms to be applied to images.\n",
    "            pos_ratio (float): Ratio of positive/negative matches present in dataset.\n",
    "        Retun:\n",
    "            Dataset object\n",
    "        \"\"\"\n",
    "        # Prepare DataFrame with the pair of images\n",
    "        combined_pos_list = []\n",
    "        whales_frame = pd.read_csv(csv_file)\n",
    "        # Series with list of images for each ID\n",
    "        pos_img_series = whales_frame.groupby('Id').agg(lambda x: \",\".join(x)).drop(\"new_whale\")[\"Image\"]\n",
    "        # Series of non-matching images\n",
    "        false_img_series = whales_frame.groupby('Id').agg(lambda x: x.iloc[0])[\"Image\"]\n",
    "        # Calculates combinations of positive matches\n",
    "        for idx, v in pos_img_series.iteritems():\n",
    "            imgs = v.split(\",\")\n",
    "            combined = combinations(imgs, 2)\n",
    "            combined_pos_list.append(combined)\n",
    "        \n",
    "        # Positive matches\n",
    "        positive = pd.DataFrame(list(chain(*combined_pos_list)), columns=[\"image_1\", \"image_2\"])\n",
    "        positive[\"label\"] = 1\n",
    "        \n",
    "        # Calculates negative matches for all idx\n",
    "        combined_neg = combinations(false_img_series, 2)\n",
    "        combined_neg = list(combined_neg)[:neg_ratio * len(positive)]\n",
    "        negative = pd.DataFrame(combined_neg, columns=[\"image_1\", \"image_2\"])\n",
    "        negative[\"label\"] = 0\n",
    "        \n",
    "        \n",
    "        # Join both frames\n",
    "        self.data_raw = pd.concat([positive, negative], axis=0, join='outer', ignore_index=True)\n",
    "        \n",
    "        # Shuffle\n",
    "        self.data_shuffled = self.data_raw.sample(frac=1).reset_index(drop=True).copy()\n",
    "        # Split in train/test\n",
    "        split_pos = int(len(self.data_raw) * split)\n",
    "        self.train_data = self.data_shuffled.iloc[:split_pos, :]\n",
    "        self.test_data = self.data_shuffled.iloc[split_pos:, :]\n",
    "            \n",
    "        self.root_dir = root_dir\n",
    "        \n",
    "        # Transforms\n",
    "        self.transform = None\n",
    "        self.transforms = transforms\n",
    "        \n",
    "        self.set_mode(\"train\")\n",
    "    def __len__(self):\n",
    "        return len(self.data)\n",
    "    \n",
    "    def __getitem__(self, idx):\n",
    "        # Load images\n",
    "        img_1_path = os.path.join(self.root_dir,\n",
    "                                  self.data.iloc[idx, 0])\n",
    "        img_2_path = os.path.join(self.root_dir,\n",
    "                                  self.data.iloc[idx, 1])\n",
    "        img_1 = Image.open(img_1_path).convert('RGB')\n",
    "        img_2 = Image.open(img_2_path).convert('RGB')\n",
    "        \n",
    "        \n",
    "        # Data augmentation\n",
    "        if self.transform:\n",
    "            img_1 = self.transform(img_1)\n",
    "            img_2 = self.transform(img_2)\n",
    "        \n",
    "        img_1_sample = {'name': img_1_path, 'data': img_1}\n",
    "        img_2_sample = {'name': img_2_path, 'data': img_2}\n",
    "        \n",
    "        # Label for image pair\n",
    "        label = torch.tensor(int(self.data.iloc[idx, 2]))\n",
    "        \n",
    "        # Output\n",
    "        sample = (img_1_sample, img_2_sample, label)\n",
    "        \n",
    "        return sample\n",
    "    \n",
    "    def set_mode(self, mode):\n",
    "        if mode == \"train\":\n",
    "            self.data = self.train_data\n",
    "            self.transform = self.transforms[0]\n",
    "        elif mode == \"test\":\n",
    "            self.data = self.test_data\n",
    "            self.transform = self.transforms[1]\n",
    "        else:\n",
    "            raise \"Mode shoud be 'train' or 'test'.\""
   ]
  },
  {
   "cell_type": "code",
   "execution_count": 3,
   "metadata": {},
   "outputs": [],
   "source": [
    "csv_file = 'humpback-whale-identification\\\\train.csv'\n",
    "root_dir = 'humpback-whale-identification\\\\train'\n",
    "# data augmentation\n",
    "train_transform = T.Compose([T.Resize(255),\n",
    "                             T.RandomRotation(5),\n",
    "                             T.RandomGrayscale(),\n",
    "                             T.CenterCrop(224),\n",
    "                             T.ToTensor(),\n",
    "                             T.Normalize(mean=[0.485, 0.456, 0.406],\n",
    "                                         std=[0.229, 0.224, 0.225])\n",
    "                            ])\n",
    "\n",
    "test_transform = T.Compose([T.Resize(255),\n",
    "                            T.CenterCrop(224),\n",
    "                            T.ToTensor(),\n",
    "                            T.Normalize(mean=[0.485, 0.456, 0.406],\n",
    "                                        std=[0.229, 0.224, 0.225])\n",
    "                           ])\n",
    "\n",
    "whale_dataset = WhaleDataset(csv_file, root_dir, transforms=[train_transform, test_transform], neg_ratio=1, split=.85)"
   ]
  },
  {
   "cell_type": "code",
   "execution_count": 4,
   "metadata": {},
   "outputs": [],
   "source": [
    "data_loader = DataLoader(whale_dataset,\n",
    "                         batch_size=1,\n",
    "                         shuffle=True)"
   ]
  },
  {
   "cell_type": "code",
   "execution_count": 5,
   "metadata": {},
   "outputs": [
    {
     "data": {
      "text/plain": [
       "118892"
      ]
     },
     "execution_count": 5,
     "metadata": {},
     "output_type": "execute_result"
    }
   ],
   "source": [
    "whale_dataset.set_mode(\"train\")\n",
    "len(whale_dataset)"
   ]
  },
  {
   "cell_type": "code",
   "execution_count": 6,
   "metadata": {},
   "outputs": [
    {
     "data": {
      "text/plain": [
       "20982"
      ]
     },
     "execution_count": 6,
     "metadata": {},
     "output_type": "execute_result"
    }
   ],
   "source": [
    "whale_dataset.set_mode(\"test\")\n",
    "len(whale_dataset)"
   ]
  },
  {
   "cell_type": "code",
   "execution_count": 8,
   "metadata": {},
   "outputs": [
    {
     "name": "stdout",
     "output_type": "stream",
     "text": [
      "torch.Size([1, 3, 224, 224])\n",
      "['humpback-whale-identification\\\\train\\\\65e152308.jpg']\n",
      "1\n"
     ]
    },
    {
     "data": {
      "image/png": "[encoded data removed]",
      "text/plain": [
       "<Figure size 2016x720 with 2 Axes>"
      ]
     },
     "metadata": {},
     "output_type": "display_data"
    }
   ],
   "source": [
    "# Check data\n",
    "img1, img2, label = iter(data_loader).next()\n",
    "\n",
    "# 5 cropped images\n",
    "print(img1[\"data\"].size())\n",
    "print(img1[\"name\"])\n",
    "# 1 item of the batch\n",
    "imgs_1 = img1[\"data\"][0].numpy()\n",
    "imgs_2 = img2[\"data\"][0].numpy()\n",
    "f = plt.figure(figsize=(28, 10))\n",
    "# For each img\n",
    "ax1 = f.add_subplot(1, 2, 1, xticks=[], yticks=[])\n",
    "ax2 = f.add_subplot(1, 2, 2, xticks=[], yticks=[])\n",
    "\n",
    "ax1.imshow(np.clip(np.transpose(imgs_1, (1, 2, 0)), 0, 1))\n",
    "ax2.imshow(np.clip(np.transpose(imgs_2, (1, 2, 0)), 0, 1))\n",
    "print(label[0].numpy())\n"
   ]
  },
  {
   "cell_type": "code",
   "execution_count": 7,
   "metadata": {},
   "outputs": [],
   "source": [
    "# Dataloader\n",
    "data_loader = DataLoader(whale_dataset,\n",
    "                         batch_size=1,\n",
    "                         shuffle=True)"
   ]
  },
  {
   "cell_type": "code",
   "execution_count": 9,
   "metadata": {},
   "outputs": [
    {
     "name": "stdout",
     "output_type": "stream",
     "text": [
      "118892\n"
     ]
    }
   ],
   "source": [
    "whale_dataset.set_mode(\"train\")\n",
    "print(len(data_loader))"
   ]
  },
  {
   "cell_type": "code",
   "execution_count": 10,
   "metadata": {},
   "outputs": [
    {
     "name": "stdout",
     "output_type": "stream",
     "text": [
      "20982\n"
     ]
    }
   ],
   "source": [
    "whale_dataset.set_mode(\"test\")\n",
    "print(len(data_loader))"
   ]
  },
  {
   "cell_type": "markdown",
   "metadata": {},
   "source": [
    "#### Reference: https://pytorch.org/tutorials/beginner/data_loading_tutorial.html"
   ]
  },
  {
   "cell_type": "markdown",
   "metadata": {},
   "source": [
    "# Building and Training a Model\n",
    "\n",
    "Model from the ground"
   ]
  },
  {
   "cell_type": "markdown",
   "metadata": {},
   "source": [
    "The model will consist of a feture extrator for the whale pictures."
   ]
  },
  {
   "cell_type": "code",
   "execution_count": 11,
   "metadata": {},
   "outputs": [],
   "source": [
    "import torch\n",
    "from torch import nn\n",
    "from torch import optim\n",
    "import torch.functional as F\n",
    "from tqdm import tqdm"
   ]
  },
  {
   "cell_type": "code",
   "execution_count": 62,
   "metadata": {},
   "outputs": [],
   "source": [
    "# Model\n",
    "class WhaleSimilarity(nn.Module):\n",
    "    \"\"\"\n",
    "    Network defining class.\n",
    "    \n",
    "    Args:\n",
    "        features_net: Network to get the features from the images. \n",
    "                      Should contain the attribute `num_features`.\n",
    "    \"\"\"\n",
    "    def __init__(self, features_net=None):\n",
    "        super(WhaleSimilarity, self).__init__()\n",
    "        if features_net is None:\n",
    "            # Sequence of Convolution + Maxpool Layers\n",
    "            self.features = nn.Sequential(nn.Conv2d(3, 8, 3, padding=1),  # sees 224x224x3 tensor\n",
    "                                          nn.ReLU(),\n",
    "                                          nn.MaxPool2d(2,2),\n",
    "                                          nn.Conv2d(8, 16, 3, padding=1),  # sees 112x112x8 tensor\n",
    "                                          nn.ReLU(),\n",
    "                                          nn.MaxPool2d(2,2),\n",
    "                                          nn.Conv2d(16, 32, 3, padding=1),  # sees 56x56x16 tensor\n",
    "                                          nn.ReLU(),\n",
    "                                          nn.MaxPool2d(2,2),\n",
    "                                          nn.Conv2d(32, 48, 3, padding=1),  # sees 28x28x32 tensor\n",
    "                                          nn.ReLU(),\n",
    "                                          nn.MaxPool2d(2,2),\n",
    "                                          nn.Conv2d(48, 80, 3, padding=1),  # sees 14x14x48 tensor\n",
    "                                          nn.ReLU(),\n",
    "                                          nn.MaxPool2d(2,2)  # outputs 7x7x80 tensor\n",
    "                                         )\n",
    "            self.num_features = 80 * 7 * 7\n",
    "        else:\n",
    "            self.features = features_net.features\n",
    "            self.num_features = features_net.num_feats\n",
    "        \n",
    "        # Linear layer with sigmoid\n",
    "        self.fc = nn.Linear(self.num_features, 1)\n",
    "       \n",
    "    def get_features(self, x):\n",
    "        \"\"\"Pass only in feature extrator\"\"\"\n",
    "        # Sequence of Conv2D + Maxpool\n",
    "        print(x.size())\n",
    "        x = self.features(x)\n",
    "        print(x.size())\n",
    "        # Flatten result\n",
    "        x = x.view(-1, self.num_features)\n",
    "        \n",
    "        return x\n",
    "    \n",
    "    def forward(self, x1, x2):\n",
    "        \"\"\"\n",
    "        Forward pass in the network, assuming the feature vectors, x1 and x2.\n",
    "        \n",
    "        Args: \n",
    "            x1: first imagetensor\n",
    "            x2: second image tensor    \n",
    "        \"\"\"\n",
    "        \n",
    "        # Subtrack results\n",
    "        x = torch.abs(x1 - x2)\n",
    "        # Linear neuron\n",
    "        x = torch.sigmoid(self.fc(x))        \n",
    "        return x\n",
    "    \n",
    "    def clean_cache(self):\n",
    "        \"\"\"\n",
    "        Cleans cache. Shoudl be called after weights update.\n",
    "        \"\"\"\n",
    "        self.cache = {}\n",
    "        "
   ]
  },
  {
   "cell_type": "code",
   "execution_count": 63,
   "metadata": {},
   "outputs": [
    {
     "name": "stdout",
     "output_type": "stream",
     "text": [
      "CUDA is available!  Training on GPU ...\n"
     ]
    }
   ],
   "source": [
    "# check if CUDA is available\n",
    "train_device = 'cuda' if torch.cuda.is_available() else 'cpu'\n",
    "\n",
    "if train_device == 'cpu':\n",
    "    print('CUDA is not available.  Training on CPU ...')\n",
    "else:\n",
    "    print('CUDA is available!  Training on GPU ...')"
   ]
  },
  {
   "cell_type": "code",
   "execution_count": 64,
   "metadata": {},
   "outputs": [
    {
     "data": {
      "text/plain": [
       "WhaleSimilarity(\n",
       "  (features): Sequential(\n",
       "    (0): Conv2d(3, 8, kernel_size=(3, 3), stride=(1, 1), padding=(1, 1))\n",
       "    (1): ReLU()\n",
       "    (2): MaxPool2d(kernel_size=2, stride=2, padding=0, dilation=1, ceil_mode=False)\n",
       "    (3): Conv2d(8, 16, kernel_size=(3, 3), stride=(1, 1), padding=(1, 1))\n",
       "    (4): ReLU()\n",
       "    (5): MaxPool2d(kernel_size=2, stride=2, padding=0, dilation=1, ceil_mode=False)\n",
       "    (6): Conv2d(16, 32, kernel_size=(3, 3), stride=(1, 1), padding=(1, 1))\n",
       "    (7): ReLU()\n",
       "    (8): MaxPool2d(kernel_size=2, stride=2, padding=0, dilation=1, ceil_mode=False)\n",
       "    (9): Conv2d(32, 48, kernel_size=(3, 3), stride=(1, 1), padding=(1, 1))\n",
       "    (10): ReLU()\n",
       "    (11): MaxPool2d(kernel_size=2, stride=2, padding=0, dilation=1, ceil_mode=False)\n",
       "    (12): Conv2d(48, 80, kernel_size=(3, 3), stride=(1, 1), padding=(1, 1))\n",
       "    (13): ReLU()\n",
       "    (14): MaxPool2d(kernel_size=2, stride=2, padding=0, dilation=1, ceil_mode=False)\n",
       "  )\n",
       "  (fc): Linear(in_features=3920, out_features=1, bias=True)\n",
       ")"
      ]
     },
     "execution_count": 64,
     "metadata": {},
     "output_type": "execute_result"
    }
   ],
   "source": [
    "# Defines Model\n",
    "model = WhaleSimilarity()\n",
    "model.to(train_device)"
   ]
  },
  {
   "cell_type": "code",
   "execution_count": 65,
   "metadata": {},
   "outputs": [],
   "source": [
    "# Specify loss function (Binary Cross-entropy)\n",
    "criterion = nn.BCELoss()\n",
    "\n",
    "# Specify optimizer\n",
    "optimizer = optim.Adam(model.parameters(), lr=0.005)\n",
    "\n",
    "# Specify lr scheduler\n",
    "scheduler = optim.lr_scheduler.ReduceLROnPlateau(optimizer, 'min', patience=2)\n",
    "\n",
    "# Losses array\n",
    "losses = {\"train\":[], \"valid\":[]}"
   ]
  },
  {
   "cell_type": "code",
   "execution_count": 66,
   "metadata": {},
   "outputs": [],
   "source": [
    "# Auxiliary functions\n",
    "def save_checkpoint(model, optimizer, scheduler, epoch, losses, file_name):\n",
    "    \"\"\"\n",
    "    Saves the current model checkpoint\n",
    "    \n",
    "    Args:\n",
    "        model: Model used.\n",
    "        optimizer: Optimizer used.\n",
    "        Scheduler: Scheduler used.\n",
    "        epoch: Epouch number.\n",
    "        losses: Dict with the losses.\n",
    "        file_name: name of the saved file.\n",
    "        \n",
    "    \"\"\"\n",
    "    # Saves the model\n",
    "    checkpoint = {\"model_state_dict\": model.state_dict(),\n",
    "                  \"optim_state_dict\": optimizer.state_dict(),\n",
    "                  \"scheduler_state_dict\": scheduler.state_dict(),\n",
    "                  \"epoch\": epoch,\n",
    "                  \"train_loss\": losses[\"train\"],\n",
    "                  \"valid_loss\": losses[\"valid\"]}\n",
    "    torch.save(checkpoint, file_name)\n",
    "    \n",
    "def load_checkpoint(model, optimizer, scheduler, losses, file_name, location='cuda'):\n",
    "    \"\"\"\n",
    "    Load all info from last model.\n",
    "    \n",
    "    Args:\n",
    "        model: Initialized Model.\n",
    "        optimizer: Initialized Optimizer.\n",
    "        Scheduler: Initialized Scheduler.\n",
    "        losses: Initialized Dict with the losses.\n",
    "        file_name: name of the saved file.\n",
    "        location: Where to load the model.\n",
    "    \"\"\"\n",
    "    # Loads the model\n",
    "    checkpoint = torch.load(file_name, map_location=location)\n",
    "    \n",
    "    # Load in given objects\n",
    "    model.load_state_dict(checkpoint[\"model_state_dict\"])\n",
    "    optimizer.load_state_dict(checkpoint[\"optim_state_dict\"])\n",
    "    scheduler.load_state_dict(checkpoint[\"scheduler_state_dict\"])\n",
    "    losses[\"train\"] = checkpoint[\"train_loss\"]\n",
    "    losses[\"valid\"] = checkpoint[\"valid_loss\"]"
   ]
  },
  {
   "cell_type": "code",
   "execution_count": 67,
   "metadata": {},
   "outputs": [],
   "source": [
    "# save_checkpoint(model, optimizer, scheduler, 1, losses, 'whale_model_last.pth')\n",
    "load_checkpoint(model, optimizer, scheduler, losses, 'whale_model_last.pth')"
   ]
  },
  {
   "cell_type": "code",
   "execution_count": 68,
   "metadata": {},
   "outputs": [],
   "source": [
    "# TODO\n",
    "def train(model, optimizer, criterion, whale_dataset, data_loader, n_epochs=3, init_val_loss=np.Inf, print_every=100, train_device='cuda'):\n",
    "    \"\"\"\n",
    "    Function to train the model\n",
    "    \n",
    "    Args:\n",
    "        model: Model used.\n",
    "        optimizer: Optimizer used.\n",
    "        criterion: Criterion used\n",
    "        whale_dataset: Data used.\n",
    "        data_loader: Dataloader used\n",
    "        n_epochs: Max number of epochs.\n",
    "        init_val_loss: Initial validation loss.\n",
    "        print_very: print this number of batches.\n",
    "        train_device: device used for training.\n",
    "    \"\"\"\n",
    "    # model = model.to(train_device).double()\n",
    "    for epoch in range(1, n_epochs + 1):\n",
    "\n",
    "        # keep track of training and validation loss\n",
    "        train_loss = 0.0\n",
    "        valid_loss = 0.0\n",
    "\n",
    "        ###################\n",
    "        # train the model #\n",
    "        ###################\n",
    "        model.train()\n",
    "        whale_dataset.set_mode(\"train\")\n",
    "        total_train = len(data_loader.dataset)\n",
    "        pbar = tqdm(enumerate(data_loader), total=total_train)\n",
    "        for c, (img1, img2, target) in pbar:\n",
    "            # move tensors to GPU if CUDA is available\n",
    "            img1, img2, target = img1[\"data\"].to(train_device), img2[\"data\"].to(train_device), target.to(train_device).float()\n",
    "            # clear the gradients of all optimized variables\n",
    "            optimizer.zero_grad()\n",
    "            bs = img1.size(0)\n",
    "            print(img1.size())\n",
    "            print(img2.size())\n",
    "            img1_feats = model.get_features(img1)\n",
    "            img2_feats = model.get_features(img2)\n",
    "            print(img1_feats.size())\n",
    "            print(img2_feats.size())\n",
    "            # forward pass: compute predicted outputs by passing inputs to the model\n",
    "            output = model(img1_feats, img2_feats)\n",
    "            # calculate the batch loss\n",
    "            import ipdb; ipdb.set_trace() # debugging starts here\n",
    "            loss = criterion(output, target)\n",
    "            # backward pass: compute gradient of the loss with respect to model parameters\n",
    "            loss.backward()\n",
    "            # perform a single optimization step (parameter update)\n",
    "            optimizer.step()\n",
    "            # update training loss\n",
    "            train_loss += loss.item() * bs\n",
    "            # show partial results\n",
    "            if c % print_every == 0:\n",
    "                # print training/validation statistics \n",
    "                pbar.set_description('Batch: {:5d}/{:5d} Training Loss: {:2.6f}'.format(\n",
    "                c,\n",
    "                len(data_loader),\n",
    "                train_loss / (bs * c)\n",
    "                ))\n",
    "        \n",
    "        # Validate model\n",
    "        valid_loss,_ , _ =  validate_model(model, criterion, whale_dataset, data_loader, train_device)\n",
    "        \n",
    "        # calculate average losses\n",
    "        train_loss = train_loss / total_train\n",
    "        \n",
    "        # Save the model if validation loss has decreased\n",
    "        save_model = False\n",
    "        if valid_loss < valid_loss_min:\n",
    "            # update the min_loss\n",
    "            valid_loss_min = valid_loss\n",
    "            # Saves the model\n",
    "            save_checkpoint(model, optimizer, scheduler, epoch, losses, \"Model_\" + str(epoch))\n",
    "            save_model = True\n",
    "\n",
    "        # print training/validation statistics \n",
    "        print('Epoch: {:3d}/{:3d} Training Loss: {:2.6f} Validation Loss: {:2.6f} Saving Model: {}'.format(\n",
    "            epoch,\n",
    "            n_epochs,\n",
    "            train_loss,\n",
    "            valid_loss,\n",
    "            save_model\n",
    "            ))\n",
    "\n",
    "        # Scheduler step\n",
    "        scheduler.step(valid_loss)\n",
    "    \n",
    "\n",
    "def validate_model(model, criterion, whale_dataset, data_loader, train_device='cuda'):\n",
    "    \"\"\"\n",
    "    Validathede given model on dataloader\n",
    "    \n",
    "    Args:\n",
    "        model: Model used.\n",
    "        criterion: Criterion used\n",
    "        whale_dataset: Data used.\n",
    "        data_loader: Dataloader used\n",
    "        train_device: device used for validation.\n",
    "    \"\"\"\n",
    "    ######################    \n",
    "    # validate the model #\n",
    "    ######################\n",
    "    valid_loss = 0.0\n",
    "    model = model.to(train_device)\n",
    "    preds = np.array([])\n",
    "    targets = np.array([])\n",
    "    whale_dataset.set_mode(\"test\")\n",
    "    total_valid = len(data_loader.dataset)\n",
    "    model.eval()\n",
    "    cache = dict()\n",
    "    with torch.no_grad():\n",
    "        for img1, img2, target in tqdm(data_loader, total=total_valid):\n",
    "            # Saves cache\n",
    "            name1 = img1[\"name\"][0]\n",
    "            name2 = img1[\"name\"][0]\n",
    "            \n",
    "            # move tensors to GPU if CUDA is available\n",
    "            img1, img2, target = img1[\"data\"].to(train_device), img2[\"data\"].to(train_device), target.to(train_device).float()\n",
    "            bs = img1.size(0)\n",
    "            \n",
    "            # Check cache\n",
    "            if name1 in cache.keys():\n",
    "                img1_feats = cache[name1]\n",
    "            else:\n",
    "                img1_feats = model.get_features(img1)\n",
    "                cache[name1] = img1_feats\n",
    "            if name2 in cache.keys():\n",
    "                img2_feats = cache[name2]\n",
    "            else:\n",
    "                img2_feats = model.get_features(img2)\n",
    "                cache[name2] = img2_feats\n",
    "            \n",
    "            # forward pass: compute predicted outputs by passing inputs to the model\n",
    "            output = model(img1_feats, img2_feats)\n",
    "\n",
    "            # calculate the batch loss\n",
    "            loss = criterion(output, target)\n",
    "            \n",
    "            # Prediction\n",
    "            pred = (output >= .5).int()\n",
    "            preds = np.concatenate((preds, pred.view(-1).cpu().numpy()))\n",
    "            targets = np.concatenate((targets, target.view(-1).cpu().numpy()))\n",
    "            # update average validation loss \n",
    "            valid_loss += loss.item() * bs\n",
    "    # Valid loss\n",
    "    valid_loss = valid_loss / total_valid\n",
    "\n",
    "    return valid_loss, targets, preds"
   ]
  },
  {
   "cell_type": "code",
   "execution_count": 69,
   "metadata": {},
   "outputs": [],
   "source": [
    "# TODO - fix\n",
    "def predict(model, img1_path, img2_path, transform, train_deive='cuda'):\n",
    "    \"\"\"\n",
    "    Returns the model prediction on given image pair\n",
    "    \n",
    "    Args:\n",
    "        model: Model used.\n",
    "        img1_path: Path to first image.\n",
    "        img2_path: Path to second image.\n",
    "        transform: Transforms applied to images.\n",
    "        train_device: device used for propagation.\n",
    "    \"\"\"\n",
    "    # Load images\n",
    "    img1 = Image.open(img1_path).convert(\"RGB\")\n",
    "    img2 = Image.open(img2_path).convert(\"RGB\")\n",
    "    \n",
    "    # Applies transforms\n",
    "    img1 = transform(img1)\n",
    "    img1 = transform(img1)\n",
    "    \n",
    "    model.eval()\n",
    "    with torch.no_grad():\n",
    "        # move tensors to GPU if CUDA is available\n",
    "        img1, img2 = img1.to(train_device), img2.to(train_device)\n",
    "        model = model.to(train_device)\n",
    "        \n",
    "        # Compesate 5 Crop\n",
    "        ncrops, c, h, w = img1.size()\n",
    "        img1 = img1.view(-1, c, h, w)\n",
    "        img2 = img2.view(-1, c, h, w)\n",
    "\n",
    "        output = model(img1, img2)\n",
    "        # Mean result of 5 crops\n",
    "        output = output.view(ncrops, -1).mean(1)\n",
    "        \n",
    "        return torch.int8(output >= .5).numpy()"
   ]
  },
  {
   "cell_type": "markdown",
   "metadata": {},
   "source": [
    "# Model Metrics\n",
    "Currently, using AUC ROC Curve as the main metric."
   ]
  },
  {
   "cell_type": "code",
   "execution_count": 70,
   "metadata": {},
   "outputs": [],
   "source": [
    "# TODO - fix\n",
    "\n",
    "from sklearn.metrics import roc_auc_score, roc_curve\n",
    "\n",
    "def plot_roc(score, fpr, tpr):\n",
    "    \"\"\"\n",
    "    Plot ROC curve of the model in th evlidation data\n",
    "    \n",
    "    score: ROC score (AUC)\n",
    "    fpr: False positive rate.\n",
    "    tpr: true positive rate.\n",
    "    \"\"\"\n",
    "    plt.figure()\n",
    "    lw = 2\n",
    "    plt.plot(fpr, tpr, color='darkorange',\n",
    "             lw=lw, label='ROC curve (Score = %0.2f)' % score)\n",
    "    plt.plot([0, 1], [0, 1], color='navy', lw=lw, linestyle='--')\n",
    "    plt.xlim([0.0, 1.0])\n",
    "    plt.ylim([0.0, 1.05])\n",
    "    plt.xlabel('False Positive Rate')\n",
    "    plt.ylabel('True Positive Rate')\n",
    "    plt.title('Receiver Operating Characteristic')\n",
    "    plt.legend(loc=\"lower right\")\n",
    "    plt.show()"
   ]
  },
  {
   "cell_type": "code",
   "execution_count": 71,
   "metadata": {},
   "outputs": [],
   "source": [
    "# score, fpr, tpr = validate_model(model, criterion, whale_dataset, data_loader, train_device='cuda')"
   ]
  },
  {
   "cell_type": "code",
   "execution_count": 72,
   "metadata": {},
   "outputs": [],
   "source": [
    "# plot_roc(score, fpr, tpr)"
   ]
  },
  {
   "cell_type": "markdown",
   "metadata": {},
   "source": [
    "# Transfer Learning"
   ]
  },
  {
   "cell_type": "markdown",
   "metadata": {},
   "source": [
    "Using transfer learning as features extractors."
   ]
  },
  {
   "cell_type": "code",
   "execution_count": 58,
   "metadata": {},
   "outputs": [],
   "source": [
    "# Load Pretrained Models\n",
    "resnet50 = models.resnet50(pretrained=True)\n",
    "# resnet152 = models.resnet152(pretrained=True)\n",
    "\n",
    "# alexnet = models.alexnet(pretrained=True)\n",
    "\n",
    "# squeezenet = models.squeezenet1_0(pretrained=True)\n",
    "\n",
    "vgg16 = models.vgg19(pretrained=True)\n",
    "# vgg19 = models.vgg19(pretrained=True)\n",
    "\n",
    "densenet121 = models.densenet121(pretrained=True)\n",
    "# densenet161 = models.densenet161(pretrained=True)\n",
    "\n",
    "# inception3 = models.inception_v3(pretrained=True)"
   ]
  },
  {
   "cell_type": "code",
   "execution_count": 73,
   "metadata": {},
   "outputs": [
    {
     "data": {
      "text/plain": [
       "Sequential(\n",
       "  (0): Conv2d(3, 64, kernel_size=(3, 3), stride=(1, 1), padding=(1, 1))\n",
       "  (1): ReLU(inplace)\n",
       "  (2): Conv2d(64, 64, kernel_size=(3, 3), stride=(1, 1), padding=(1, 1))\n",
       "  (3): ReLU(inplace)\n",
       "  (4): MaxPool2d(kernel_size=2, stride=2, padding=0, dilation=1, ceil_mode=False)\n",
       "  (5): Conv2d(64, 128, kernel_size=(3, 3), stride=(1, 1), padding=(1, 1))\n",
       "  (6): ReLU(inplace)\n",
       "  (7): Conv2d(128, 128, kernel_size=(3, 3), stride=(1, 1), padding=(1, 1))\n",
       "  (8): ReLU(inplace)\n",
       "  (9): MaxPool2d(kernel_size=2, stride=2, padding=0, dilation=1, ceil_mode=False)\n",
       "  (10): Conv2d(128, 256, kernel_size=(3, 3), stride=(1, 1), padding=(1, 1))\n",
       "  (11): ReLU(inplace)\n",
       "  (12): Conv2d(256, 256, kernel_size=(3, 3), stride=(1, 1), padding=(1, 1))\n",
       "  (13): ReLU(inplace)\n",
       "  (14): Conv2d(256, 256, kernel_size=(3, 3), stride=(1, 1), padding=(1, 1))\n",
       "  (15): ReLU(inplace)\n",
       "  (16): Conv2d(256, 256, kernel_size=(3, 3), stride=(1, 1), padding=(1, 1))\n",
       "  (17): ReLU(inplace)\n",
       "  (18): MaxPool2d(kernel_size=2, stride=2, padding=0, dilation=1, ceil_mode=False)\n",
       "  (19): Conv2d(256, 512, kernel_size=(3, 3), stride=(1, 1), padding=(1, 1))\n",
       "  (20): ReLU(inplace)\n",
       "  (21): Conv2d(512, 512, kernel_size=(3, 3), stride=(1, 1), padding=(1, 1))\n",
       "  (22): ReLU(inplace)\n",
       "  (23): Conv2d(512, 512, kernel_size=(3, 3), stride=(1, 1), padding=(1, 1))\n",
       "  (24): ReLU(inplace)\n",
       "  (25): Conv2d(512, 512, kernel_size=(3, 3), stride=(1, 1), padding=(1, 1))\n",
       "  (26): ReLU(inplace)\n",
       "  (27): MaxPool2d(kernel_size=2, stride=2, padding=0, dilation=1, ceil_mode=False)\n",
       "  (28): Conv2d(512, 512, kernel_size=(3, 3), stride=(1, 1), padding=(1, 1))\n",
       "  (29): ReLU(inplace)\n",
       "  (30): Conv2d(512, 512, kernel_size=(3, 3), stride=(1, 1), padding=(1, 1))\n",
       "  (31): ReLU(inplace)\n",
       "  (32): Conv2d(512, 512, kernel_size=(3, 3), stride=(1, 1), padding=(1, 1))\n",
       "  (33): ReLU(inplace)\n",
       "  (34): Conv2d(512, 512, kernel_size=(3, 3), stride=(1, 1), padding=(1, 1))\n",
       "  (35): ReLU(inplace)\n",
       "  (36): MaxPool2d(kernel_size=2, stride=2, padding=0, dilation=1, ceil_mode=False)\n",
       ")"
      ]
     },
     "execution_count": 73,
     "metadata": {},
     "output_type": "execute_result"
    }
   ],
   "source": [
    "vgg16.features"
   ]
  },
  {
   "cell_type": "code",
   "execution_count": 74,
   "metadata": {},
   "outputs": [],
   "source": [
    "# Add attributes to models\n",
    "resnet50.num_feats = 2048\n",
    "vgg16.num_feats= 25088\n",
    "densenet121.num_feats = 1024\n",
    "\n",
    "# TODO Change 1024 to 1024 * 7 * 7\n",
    "transfer_model = vgg16\n",
    "transfer_model.num_feats = 25088\n",
    "transfer_model = transfer_model.to(train_device)"
   ]
  },
  {
   "cell_type": "code",
   "execution_count": 75,
   "metadata": {},
   "outputs": [],
   "source": [
    "model = WhaleSimilarity(transfer_model)\n",
    "model = model.cuda()"
   ]
  },
  {
   "cell_type": "code",
   "execution_count": 76,
   "metadata": {},
   "outputs": [
    {
     "name": "stderr",
     "output_type": "stream",
     "text": [
      "\n",
      "\n",
      "\n",
      "  0%|                                                                                       | 0/118892 [00:00<?, ?it/s]"
     ]
    },
    {
     "name": "stdout",
     "output_type": "stream",
     "text": [
      "torch.Size([1, 3, 224, 224])\n",
      "torch.Size([1, 3, 224, 224])\n",
      "torch.Size([1, 3, 224, 224])\n",
      "torch.Size([1, 512, 7, 7])\n",
      "torch.Size([1, 3, 224, 224])\n",
      "torch.Size([1, 512, 7, 7])\n",
      "torch.Size([1, 25088])\n",
      "torch.Size([1, 25088])\n",
      "> <ipython-input-68-ff049e60389e>(47)train()\n",
      "     46             import ipdb; ipdb.set_trace() # debugging starts here\n",
      "---> 47             loss = criterion(output, target)\n",
      "     48             # backward pass: compute gradient of the loss with respect to model parameters\n",
      "\n"
     ]
    },
    {
     "name": "stdin",
     "output_type": "stream",
     "text": [
      "ipdb>  c\n"
     ]
    },
    {
     "ename": "ZeroDivisionError",
     "evalue": "float division by zero",
     "output_type": "error",
     "traceback": [
      "\u001b[1;31m---------------------------------------------------------------------------\u001b[0m",
      "\u001b[1;31mZeroDivisionError\u001b[0m                         Traceback (most recent call last)",
      "\u001b[1;32m<ipython-input-76-e9d28d403121>\u001b[0m in \u001b[0;36m<module>\u001b[1;34m\u001b[0m\n\u001b[1;32m----> 1\u001b[1;33m \u001b[0mtrain\u001b[0m\u001b[1;33m(\u001b[0m\u001b[0mmodel\u001b[0m\u001b[1;33m,\u001b[0m \u001b[0moptimizer\u001b[0m\u001b[1;33m,\u001b[0m \u001b[0mcriterion\u001b[0m\u001b[1;33m,\u001b[0m \u001b[0mwhale_dataset\u001b[0m\u001b[1;33m,\u001b[0m \u001b[0mdata_loader\u001b[0m\u001b[1;33m)\u001b[0m\u001b[1;33m\u001b[0m\u001b[0m\n\u001b[0m",
      "\u001b[1;32m<ipython-input-68-ff049e60389e>\u001b[0m in \u001b[0;36mtrain\u001b[1;34m(model, optimizer, criterion, whale_dataset, data_loader, n_epochs, init_val_loss, print_every, train_device)\u001b[0m\n\u001b[0;32m     45\u001b[0m             \u001b[1;31m# calculate the batch loss\u001b[0m\u001b[1;33m\u001b[0m\u001b[1;33m\u001b[0m\u001b[0m\n\u001b[0;32m     46\u001b[0m             \u001b[1;32mimport\u001b[0m \u001b[0mipdb\u001b[0m\u001b[1;33m;\u001b[0m \u001b[0mipdb\u001b[0m\u001b[1;33m.\u001b[0m\u001b[0mset_trace\u001b[0m\u001b[1;33m(\u001b[0m\u001b[1;33m)\u001b[0m \u001b[1;31m# debugging starts here\u001b[0m\u001b[1;33m\u001b[0m\u001b[0m\n\u001b[1;32m---> 47\u001b[1;33m             \u001b[0mloss\u001b[0m \u001b[1;33m=\u001b[0m \u001b[0mcriterion\u001b[0m\u001b[1;33m(\u001b[0m\u001b[0moutput\u001b[0m\u001b[1;33m,\u001b[0m \u001b[0mtarget\u001b[0m\u001b[1;33m)\u001b[0m\u001b[1;33m\u001b[0m\u001b[0m\n\u001b[0m\u001b[0;32m     48\u001b[0m             \u001b[1;31m# backward pass: compute gradient of the loss with respect to model parameters\u001b[0m\u001b[1;33m\u001b[0m\u001b[1;33m\u001b[0m\u001b[0m\n\u001b[0;32m     49\u001b[0m             \u001b[0mloss\u001b[0m\u001b[1;33m.\u001b[0m\u001b[0mbackward\u001b[0m\u001b[1;33m(\u001b[0m\u001b[1;33m)\u001b[0m\u001b[1;33m\u001b[0m\u001b[0m\n",
      "\u001b[1;31mZeroDivisionError\u001b[0m: float division by zero"
     ]
    }
   ],
   "source": [
    "train(model, optimizer, criterion, whale_dataset, data_loader)"
   ]
  },
  {
   "cell_type": "code",
   "execution_count": null,
   "metadata": {},
   "outputs": [],
   "source": []
  }
 ],
 "metadata": {
  "kernelspec": {
   "display_name": "Python 3",
   "language": "python",
   "name": "python3"
  },
  "language_info": {
   "codemirror_mode": {
    "name": "ipython",
    "version": 3
   },
   "file_extension": ".py",
   "mimetype": "text/x-python",
   "name": "python",
   "nbconvert_exporter": "python",
   "pygments_lexer": "ipython3",
   "version": "3.6.5"
  }
 },
 "nbformat": 4,
 "nbformat_minor": 2
}
